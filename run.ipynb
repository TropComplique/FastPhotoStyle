{
 "cells": [
  {
   "cell_type": "code",
   "execution_count": null,
   "metadata": {},
   "outputs": [],
   "source": [
    "from PIL import Image\n",
    "import numpy as np\n",
    "from photorealistic_smoothing import photorealistic_smoothing\n",
    "from secondary_smoothing import secondary_smoothing\n",
    "from networks import VGGEncoder, VGGDecoder"
   ]
  },
  {
   "cell_type": "code",
   "execution_count": null,
   "metadata": {},
   "outputs": [],
   "source": [
    "import numpy as np\n",
    "from PIL import Image\n",
    "import torch.nn as nn\n",
    "import torch\n",
    "from wct import wct"
   ]
  },
  {
   "cell_type": "code",
   "execution_count": null,
   "metadata": {},
   "outputs": [],
   "source": [
    "content = Image.open('images/Tuebingen_Neckarfront.jpg')\n",
    "content"
   ]
  },
  {
   "cell_type": "code",
   "execution_count": null,
   "metadata": {},
   "outputs": [],
   "source": [
    "style = Image.open('styles/Henri Edmond Cross - Antibes.jpg')\n",
    "style"
   ]
  },
  {
   "cell_type": "code",
   "execution_count": null,
   "metadata": {},
   "outputs": [],
   "source": [
    "def to_tensor(x):\n",
    "    \"\"\"\n",
    "    Arguments:\n",
    "        x: an instance of PIL image.\n",
    "    Returns:\n",
    "        a float tensor with shape [1, 3, h, w],\n",
    "        it represents a RGB image with\n",
    "        pixel values in [0, 1] range.\n",
    "    \"\"\"\n",
    "    x = np.array(x)\n",
    "    x = torch.FloatTensor(x)\n",
    "    return x.permute(2, 0, 1).unsqueeze(0).div(255.0)"
   ]
  },
  {
   "cell_type": "code",
   "execution_count": null,
   "metadata": {},
   "outputs": [],
   "source": [
    "class PhotoWCT(nn.Module):\n",
    "\n",
    "    def __init__(self):\n",
    "        super(PhotoWCT, self).__init__()\n",
    "\n",
    "        self.encoder = VGGEncoder()\n",
    "        self.decoders = nn.ModuleDict({f'{i}': VGGDecoder(i) for i in [1, 2, 3, 4]})\n",
    "\n",
    "    def forward(self, content, style):\n",
    "        \"\"\"\n",
    "        Arguments:\n",
    "            content: a float tensor with shape [].\n",
    "            style: a float tensor with shape [].\n",
    "        \"\"\"\n",
    "        with torch.no_grad():\n",
    "\n",
    "            style_features, _ = self.encoder(style)\n",
    "            x = content\n",
    "\n",
    "            for i in [1, 2, 3, 4]:\n",
    "                features, pooling_indices = self.encoder(x, level=i)\n",
    "                \n",
    "                A, B = features[i], style_features[i]\n",
    "                _, d, h, w = A.size()\n",
    "                _, d, h2, w2 = B.size()\n",
    "                f = wct(A.view(d, h * w), B.view(d, h2 * w2))\n",
    "                f = f.view(1, d, h, w)\n",
    "                x = self.decoders[f'{i}'](f, pooling_indices)\n",
    "\n",
    "        return x"
   ]
  },
  {
   "cell_type": "code",
   "execution_count": null,
   "metadata": {},
   "outputs": [],
   "source": [
    "t = PhotoWCT()"
   ]
  },
  {
   "cell_type": "code",
   "execution_count": null,
   "metadata": {},
   "outputs": [],
   "source": [
    "t.encoder.load_state_dict(torch.load('models/encoder.pth'))\n",
    "\n",
    "for i, m in t.decoders.items():\n",
    "    m.load_state_dict(torch.load(f'models/decoder{i}.pth'))"
   ]
  },
  {
   "cell_type": "code",
   "execution_count": null,
   "metadata": {},
   "outputs": [],
   "source": [
    "t = t.cuda()"
   ]
  },
  {
   "cell_type": "code",
   "execution_count": null,
   "metadata": {},
   "outputs": [],
   "source": [
    "output = t(to_tensor(content).cuda(), to_tensor(style).cuda())"
   ]
  },
  {
   "cell_type": "code",
   "execution_count": null,
   "metadata": {},
   "outputs": [],
   "source": [
    "output = output.cpu().clamp(0.0, 1.0)[0].permute(1, 2, 0).numpy()\n",
    "output = (255*output).astype('uint8')"
   ]
  },
  {
   "cell_type": "code",
   "execution_count": null,
   "metadata": {},
   "outputs": [],
   "source": [
    "Image.fromarray(output)"
   ]
  },
  {
   "cell_type": "code",
   "execution_count": null,
   "metadata": {},
   "outputs": [],
   "source": [
    "X = np.array(content)\n",
    "r = photorealistic_smoothing(X, output)"
   ]
  },
  {
   "cell_type": "code",
   "execution_count": null,
   "metadata": {
    "scrolled": true
   },
   "outputs": [],
   "source": [
    "r2 = secondary_smoothing(r3, X)"
   ]
  },
  {
   "cell_type": "code",
   "execution_count": null,
   "metadata": {},
   "outputs": [],
   "source": [
    "Image.fromarray(r)"
   ]
  },
  {
   "cell_type": "code",
   "execution_count": null,
   "metadata": {},
   "outputs": [],
   "source": [
    "Image.fromarray(r2)"
   ]
  },
  {
   "cell_type": "code",
   "execution_count": null,
   "metadata": {},
   "outputs": [],
   "source": [
    "from cv2.ximgproc import guidedFilter\n",
    "\n",
    "\n",
    "def guided_filter_smoothing(Y, content, radius=35, epsilon=1e-3):\n",
    "    \"\"\"\n",
    "    Arguments:\n",
    "        Y, content: numpy uint8 arrays with shape [h, w, 3].\n",
    "        radius: an integer.\n",
    "        epsilon: a float number.  #  or 1e-2\n",
    "    Returns:\n",
    "        a numpy uint8 array with shape [h, w, 3].\n",
    "    \"\"\"\n",
    "    return guidedFilter(guide=content, src=Y, radius=radius, eps=epsilon)"
   ]
  },
  {
   "cell_type": "code",
   "execution_count": null,
   "metadata": {},
   "outputs": [],
   "source": [
    "r3 = guided_filter_smoothing(output, X)"
   ]
  },
  {
   "cell_type": "code",
   "execution_count": null,
   "metadata": {},
   "outputs": [],
   "source": [
    "Image.fromarray(r3)"
   ]
  }
 ],
 "metadata": {
  "kernelspec": {
   "display_name": "Python 3",
   "language": "python",
   "name": "python3"
  },
  "language_info": {
   "codemirror_mode": {
    "name": "ipython",
    "version": 3
   },
   "file_extension": ".py",
   "mimetype": "text/x-python",
   "name": "python",
   "nbconvert_exporter": "python",
   "pygments_lexer": "ipython3",
   "version": "3.6.7"
  }
 },
 "nbformat": 4,
 "nbformat_minor": 2
}
