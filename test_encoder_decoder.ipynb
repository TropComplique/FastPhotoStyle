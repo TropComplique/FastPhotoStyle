{
 "cells": [
  {
   "cell_type": "code",
   "execution_count": null,
   "metadata": {},
   "outputs": [],
   "source": [
    "import torch\n",
    "import numpy as np\n",
    "from PIL import Image\n",
    "from networks import VGGEncoder, VGGDecoder"
   ]
  },
  {
   "cell_type": "markdown",
   "metadata": {},
   "source": [
    "# Load an image"
   ]
  },
  {
   "cell_type": "code",
   "execution_count": null,
   "metadata": {},
   "outputs": [],
   "source": [
    "image = Image.open('/home/gpu1/datasets/COCO/images/train2017/000000001006.jpg')\n",
    "w, h = image.size\n",
    "image = image.resize(((w // 8) * 8, (h // 8) * 8), Image.LANCZOS)\n",
    "image"
   ]
  },
  {
   "cell_type": "markdown",
   "metadata": {},
   "source": [
    "# Load the trained models"
   ]
  },
  {
   "cell_type": "code",
   "execution_count": null,
   "metadata": {},
   "outputs": [],
   "source": [
    "e = VGGEncoder()\n",
    "e.load_state_dict(torch.load('models/encoder.pth'))\n",
    "\n",
    "d = {i: VGGDecoder(i) for i in [1, 2, 3, 4]}\n",
    "for i, m in d.items():\n",
    "    m.load_state_dict(torch.load(f'models/decoder{i}.pth'))"
   ]
  },
  {
   "cell_type": "markdown",
   "metadata": {},
   "source": [
    "# Encode and decode"
   ]
  },
  {
   "cell_type": "code",
   "execution_count": null,
   "metadata": {},
   "outputs": [],
   "source": [
    "x = torch.FloatTensor(np.array(image)/255.0)\n",
    "x = x.permute(2, 0, 1).unsqueeze(0)\n",
    "\n",
    "print(x.shape)"
   ]
  },
  {
   "cell_type": "code",
   "execution_count": null,
   "metadata": {},
   "outputs": [],
   "source": [
    "level = 4  # 1, 2, 3, 4\n",
    "\n",
    "with torch.no_grad():\n",
    "    \n",
    "    features, pooling_indices = e(x, level)\n",
    "    y = d[level](features[level], pooling_indices)\n",
    "    \n",
    "    y = y.clamp(0.0, 1.0)\n",
    "    y *= 255.0\n",
    "    y = y[0].permute(1, 2, 0).numpy().astype('uint8')\n",
    "\n",
    "print(y.shape)"
   ]
  },
  {
   "cell_type": "markdown",
   "metadata": {},
   "source": [
    "# See the result"
   ]
  },
  {
   "cell_type": "code",
   "execution_count": null,
   "metadata": {},
   "outputs": [],
   "source": [
    "Image.fromarray(y)"
   ]
  }
 ],
 "metadata": {
  "kernelspec": {
   "display_name": "Python 3",
   "language": "python",
   "name": "python3"
  },
  "language_info": {
   "codemirror_mode": {
    "name": "ipython",
    "version": 3
   },
   "file_extension": ".py",
   "mimetype": "text/x-python",
   "name": "python",
   "nbconvert_exporter": "python",
   "pygments_lexer": "ipython3",
   "version": "3.6.7"
  }
 },
 "nbformat": 4,
 "nbformat_minor": 2
}
